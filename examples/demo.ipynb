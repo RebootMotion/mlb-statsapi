{
 "cells": [
  {
   "cell_type": "code",
   "execution_count": null,
   "metadata": {},
   "outputs": [],
   "source": [
    "from mlb_statsapi import GameRequest, Game"
   ]
  },
  {
   "cell_type": "code",
   "execution_count": null,
   "metadata": {},
   "outputs": [],
   "source": [
    "# Game PK of interest\n",
    "# game_pk = 718263\n",
    "game_pk = 717533"
   ]
  },
  {
   "cell_type": "code",
   "execution_count": null,
   "metadata": {},
   "outputs": [],
   "source": [
    "# Create wrapper object that will make the API request and parse the return object\n",
    "game = GameRequest(game_pk=game_pk)"
   ]
  },
  {
   "cell_type": "code",
   "execution_count": null,
   "metadata": {},
   "outputs": [],
   "source": [
    "# Make the request to the MLB API and process the json into easier to use objects\n",
    "game_data: Game = game.make_request()\n",
    "# Access the raw json from the API\n",
    "# game._raw"
   ]
  },
  {
   "cell_type": "code",
   "execution_count": null,
   "metadata": {},
   "outputs": [],
   "source": [
    "# get pitch objects by play id\n",
    "game_data.pitches_by_play_id"
   ]
  },
  {
   "cell_type": "code",
   "execution_count": null,
   "metadata": {},
   "outputs": [],
   "source": [
    "# access a particular pitch to investigate it further.\n",
    "play_id_to_investigate = [*game_data.pitches_by_play_id][0]\n",
    "pitch = game_data.pitches_by_play_id[play_id_to_investigate]\n",
    "print(pitch.start_speed)\n",
    "print(pitch.plateTime)"
   ]
  },
  {
   "cell_type": "code",
   "execution_count": null,
   "metadata": {},
   "outputs": [],
   "source": [
    "# get the video for this particular play\n",
    "game_data.play_video_by_play_id[play_id_to_investigate]"
   ]
  },
  {
   "cell_type": "code",
   "execution_count": null,
   "metadata": {},
   "outputs": [],
   "source": [
    "# Request certain metrics for all swings from the game, returned as a dataframe\n",
    "# Leave the metrics blank to request all metrics\n",
    "# Attributes on the original json data that aren't explicity built into the dataclass object can still be requested\n",
    "# Optionally, you can provide a list of specific play ids from the game to get a subset of the rows\n",
    "df_swing = game_data.get_filtered_swing_metrics_by_play_id_as_df([\"launch_angle\", \"launch_speed\", \"trajectory\"])\n",
    "df_swing"
   ]
  },
  {
   "cell_type": "code",
   "execution_count": null,
   "metadata": {},
   "outputs": [],
   "source": [
    "# Do the same with all metrics\n",
    "df_swing = game_data.get_filtered_swing_metrics_by_play_id_as_df()\n",
    "df_swing"
   ]
  },
  {
   "cell_type": "code",
   "execution_count": null,
   "metadata": {},
   "outputs": [],
   "source": [
    "# Now save it down as a CSV for other uses\n",
    "df_swing.to_csv(\"./swings.csv\")"
   ]
  },
  {
   "cell_type": "code",
   "execution_count": null,
   "metadata": {},
   "outputs": [],
   "source": [
    "# Do the same for pitches\n",
    "df_pitch = game_data.get_filtered_pitch_metrics_by_play_id_as_df()\n",
    "df_pitch"
   ]
  },
  {
   "cell_type": "code",
   "execution_count": null,
   "metadata": {},
   "outputs": [],
   "source": [
    "# Filter to fastballs over 98 mph\n",
    "df_pitch[(df_pitch[\"pitch_type\"] == \"Four-Seam Fastball\") & (df_pitch[\"start_speed\"] > 98)]"
   ]
  },
  {
   "cell_type": "code",
   "execution_count": null,
   "metadata": {},
   "outputs": [],
   "source": [
    "# Now save it down as a CSV for other uses\n",
    "df_pitch.to_csv(\"./pitches.csv\")"
   ]
  },
  {
   "cell_type": "code",
   "execution_count": null,
   "metadata": {},
   "outputs": [],
   "source": []
  }
 ],
 "metadata": {
  "kernelspec": {
   "display_name": "jupyter",
   "language": "python",
   "name": "python3"
  },
  "language_info": {
   "codemirror_mode": {
    "name": "ipython",
    "version": 3
   },
   "file_extension": ".py",
   "mimetype": "text/x-python",
   "name": "python",
   "nbconvert_exporter": "python",
   "pygments_lexer": "ipython3",
   "version": "3.10.9"
  },
  "orig_nbformat": 4
 },
 "nbformat": 4,
 "nbformat_minor": 2
}
